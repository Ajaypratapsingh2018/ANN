{
  "nbformat": 4,
  "nbformat_minor": 0,
  "metadata": {
    "colab": {
      "name": "artificial_neural_network.ipynb",
      "provenance": [],
      "collapsed_sections": [],
      "include_colab_link": true
    },
    "kernelspec": {
      "name": "python3",
      "display_name": "Python 3"
    }
  },
  "cells": [
    {
      "cell_type": "markdown",
      "metadata": {
        "id": "view-in-github",
        "colab_type": "text"
      },
      "source": [
        "<a href=\"https://colab.research.google.com/github/Ajaypratapsingh2018/hello-world/blob/main/artificial_neural_network.ipynb\" target=\"_parent\"><img src=\"https://colab.research.google.com/assets/colab-badge.svg\" alt=\"Open In Colab\"/></a>"
      ]
    },
    {
      "cell_type": "markdown",
      "metadata": {
        "id": "3cbb7fRy-eyr"
      },
      "source": [
        "# Artificial Neural Network"
      ]
    },
    {
      "cell_type": "code",
      "metadata": {
        "id": "lxChR1Rk-umf"
      },
      "source": [
        "import numpy as np\n",
        "import pandas as pd\n",
        "import tensorflow as tf"
      ],
      "execution_count": null,
      "outputs": []
    },
    {
      "cell_type": "code",
      "metadata": {
        "id": "uBTqR3nacj0e",
        "colab": {
          "base_uri": "https://localhost:8080/",
          "height": 35
        },
        "outputId": "2a3e26d3-8da8-40c4-b7e3-c9aeb0b97d15"
      },
      "source": [
        "tf.__version__"
      ],
      "execution_count": null,
      "outputs": [
        {
          "output_type": "execute_result",
          "data": {
            "application/vnd.google.colaboratory.intrinsic+json": {
              "type": "string"
            },
            "text/plain": [
              "'2.5.0'"
            ]
          },
          "metadata": {
            "tags": []
          },
          "execution_count": 2
        }
      ]
    },
    {
      "cell_type": "code",
      "metadata": {
        "id": "B9CV13Co_HHM"
      },
      "source": [
        "dataset = pd.read_excel('Folds5x2_pp.xlsx')\n",
        "X = dataset.iloc[:, :-1].values\n",
        "y = dataset.iloc[:, -1].values"
      ],
      "execution_count": null,
      "outputs": []
    },
    {
      "cell_type": "code",
      "metadata": {
        "id": "L5edeb2r_agx"
      },
      "source": [
        "from sklearn.model_selection import train_test_split\n",
        "X_train, X_test, y_train, y_test = train_test_split(X, y, test_size = 0.2)"
      ],
      "execution_count": null,
      "outputs": []
    },
    {
      "cell_type": "code",
      "metadata": {
        "id": "J6Hd97Ls__Nz"
      },
      "source": [
        "ann = tf.keras.models.Sequential()"
      ],
      "execution_count": null,
      "outputs": []
    },
    {
      "cell_type": "code",
      "metadata": {
        "id": "ksO_Vv40AHix"
      },
      "source": [
        "ann.add(tf.keras.layers.Dense(units=6, activation='relu'))"
      ],
      "execution_count": null,
      "outputs": []
    },
    {
      "cell_type": "code",
      "metadata": {
        "id": "c2357OqEAQOQ"
      },
      "source": [
        "ann.add(tf.keras.layers.Dense(units=6, activation='relu'))"
      ],
      "execution_count": null,
      "outputs": []
    },
    {
      "cell_type": "code",
      "metadata": {
        "id": "YFATpzsUAkLL"
      },
      "source": [
        "ann.add(tf.keras.layers.Dense(units=1))"
      ],
      "execution_count": null,
      "outputs": []
    },
    {
      "cell_type": "code",
      "metadata": {
        "id": "pesgbWlCAtB4"
      },
      "source": [
        "ann.compile(optimizer = 'adam', loss = 'mean_squared_error')"
      ],
      "execution_count": null,
      "outputs": []
    },
    {
      "cell_type": "code",
      "metadata": {
        "id": "c_vV-tiiA5zn",
        "colab": {
          "base_uri": "https://localhost:8080/"
        },
        "outputId": "069005a3-5b9f-4c11-92be-30369d2873b9"
      },
      "source": [
        "ann.fit(X_train, y_train, batch_size = 32, epochs = 60)"
      ],
      "execution_count": null,
      "outputs": [
        {
          "output_type": "stream",
          "text": [
            "Epoch 1/60\n",
            "240/240 [==============================] - 1s 1ms/step - loss: 11072.1572\n",
            "Epoch 2/60\n",
            "240/240 [==============================] - 0s 1ms/step - loss: 1027.6801\n",
            "Epoch 3/60\n",
            "240/240 [==============================] - 0s 1ms/step - loss: 923.1196\n",
            "Epoch 4/60\n",
            "240/240 [==============================] - 0s 1ms/step - loss: 804.3447\n",
            "Epoch 5/60\n",
            "240/240 [==============================] - 0s 1ms/step - loss: 683.4440\n",
            "Epoch 6/60\n",
            "240/240 [==============================] - 0s 1ms/step - loss: 564.4922\n",
            "Epoch 7/60\n",
            "240/240 [==============================] - 0s 1ms/step - loss: 452.0008\n",
            "Epoch 8/60\n",
            "240/240 [==============================] - 0s 1ms/step - loss: 351.3017\n",
            "Epoch 9/60\n",
            "240/240 [==============================] - 0s 1ms/step - loss: 263.5139\n",
            "Epoch 10/60\n",
            "240/240 [==============================] - 0s 1ms/step - loss: 191.4372\n",
            "Epoch 11/60\n",
            "240/240 [==============================] - 0s 1ms/step - loss: 134.3200\n",
            "Epoch 12/60\n",
            "240/240 [==============================] - 0s 1ms/step - loss: 92.1932\n",
            "Epoch 13/60\n",
            "240/240 [==============================] - 0s 1ms/step - loss: 64.6747\n",
            "Epoch 14/60\n",
            "240/240 [==============================] - 0s 1ms/step - loss: 47.1934\n",
            "Epoch 15/60\n",
            "240/240 [==============================] - 0s 1ms/step - loss: 37.9549\n",
            "Epoch 16/60\n",
            "240/240 [==============================] - 0s 1ms/step - loss: 33.1754\n",
            "Epoch 17/60\n",
            "240/240 [==============================] - 0s 1ms/step - loss: 31.3528\n",
            "Epoch 18/60\n",
            "240/240 [==============================] - 0s 1ms/step - loss: 29.9189\n",
            "Epoch 19/60\n",
            "240/240 [==============================] - 0s 1ms/step - loss: 29.5577\n",
            "Epoch 20/60\n",
            "240/240 [==============================] - 0s 1ms/step - loss: 29.2758\n",
            "Epoch 21/60\n",
            "240/240 [==============================] - 0s 1ms/step - loss: 28.7816\n",
            "Epoch 22/60\n",
            "240/240 [==============================] - 0s 1ms/step - loss: 28.1923\n",
            "Epoch 23/60\n",
            "240/240 [==============================] - 0s 1ms/step - loss: 27.9062\n",
            "Epoch 24/60\n",
            "240/240 [==============================] - 0s 1ms/step - loss: 28.1261\n",
            "Epoch 25/60\n",
            "240/240 [==============================] - 0s 1ms/step - loss: 27.8743\n",
            "Epoch 26/60\n",
            "240/240 [==============================] - 0s 1ms/step - loss: 27.5549\n",
            "Epoch 27/60\n",
            "240/240 [==============================] - 0s 1ms/step - loss: 27.5415\n",
            "Epoch 28/60\n",
            "240/240 [==============================] - 0s 1ms/step - loss: 27.4346\n",
            "Epoch 29/60\n",
            "240/240 [==============================] - 0s 1ms/step - loss: 27.1123\n",
            "Epoch 30/60\n",
            "240/240 [==============================] - 0s 1ms/step - loss: 26.6997\n",
            "Epoch 31/60\n",
            "240/240 [==============================] - 0s 1ms/step - loss: 27.2396\n",
            "Epoch 32/60\n",
            "240/240 [==============================] - 0s 1ms/step - loss: 27.2902\n",
            "Epoch 33/60\n",
            "240/240 [==============================] - 0s 1ms/step - loss: 27.9261\n",
            "Epoch 34/60\n",
            "240/240 [==============================] - 0s 1ms/step - loss: 27.0525\n",
            "Epoch 35/60\n",
            "240/240 [==============================] - 0s 1ms/step - loss: 26.5320\n",
            "Epoch 36/60\n",
            "240/240 [==============================] - 0s 1ms/step - loss: 27.0473\n",
            "Epoch 37/60\n",
            "240/240 [==============================] - 0s 1ms/step - loss: 26.9226\n",
            "Epoch 38/60\n",
            "240/240 [==============================] - 0s 1ms/step - loss: 28.1378\n",
            "Epoch 39/60\n",
            "240/240 [==============================] - 0s 1ms/step - loss: 26.7305\n",
            "Epoch 40/60\n",
            "240/240 [==============================] - 0s 1ms/step - loss: 27.4731\n",
            "Epoch 41/60\n",
            "240/240 [==============================] - 0s 1ms/step - loss: 26.3577\n",
            "Epoch 42/60\n",
            "240/240 [==============================] - 0s 1ms/step - loss: 26.6394\n",
            "Epoch 43/60\n",
            "240/240 [==============================] - 0s 1ms/step - loss: 27.3795\n",
            "Epoch 44/60\n",
            "240/240 [==============================] - 0s 1ms/step - loss: 27.1391\n",
            "Epoch 45/60\n",
            "240/240 [==============================] - 0s 1ms/step - loss: 26.5368\n",
            "Epoch 46/60\n",
            "240/240 [==============================] - 0s 1ms/step - loss: 27.0458\n",
            "Epoch 47/60\n",
            "240/240 [==============================] - 0s 1ms/step - loss: 27.5951\n",
            "Epoch 48/60\n",
            "240/240 [==============================] - 0s 1ms/step - loss: 27.8729\n",
            "Epoch 49/60\n",
            "240/240 [==============================] - 0s 1ms/step - loss: 25.9827\n",
            "Epoch 50/60\n",
            "240/240 [==============================] - 0s 1ms/step - loss: 26.8452\n",
            "Epoch 51/60\n",
            "240/240 [==============================] - 0s 1ms/step - loss: 27.3292\n",
            "Epoch 52/60\n",
            "240/240 [==============================] - 0s 1ms/step - loss: 27.2225\n",
            "Epoch 53/60\n",
            "240/240 [==============================] - 0s 1ms/step - loss: 26.5032\n",
            "Epoch 54/60\n",
            "240/240 [==============================] - 0s 1ms/step - loss: 27.4257\n",
            "Epoch 55/60\n",
            "240/240 [==============================] - 0s 1ms/step - loss: 26.3024\n",
            "Epoch 56/60\n",
            "240/240 [==============================] - 0s 1ms/step - loss: 26.5284\n",
            "Epoch 57/60\n",
            "240/240 [==============================] - 0s 1ms/step - loss: 25.9835\n",
            "Epoch 58/60\n",
            "240/240 [==============================] - 0s 1ms/step - loss: 26.8361\n",
            "Epoch 59/60\n",
            "240/240 [==============================] - 0s 1ms/step - loss: 26.9101\n",
            "Epoch 60/60\n",
            "240/240 [==============================] - 0s 1ms/step - loss: 26.6939\n"
          ],
          "name": "stdout"
        },
        {
          "output_type": "execute_result",
          "data": {
            "text/plain": [
              "<tensorflow.python.keras.callbacks.History at 0x7f24daa8a0d0>"
            ]
          },
          "metadata": {
            "tags": []
          },
          "execution_count": 10
        }
      ]
    },
    {
      "cell_type": "code",
      "metadata": {
        "id": "IA0yApEmBG1X",
        "colab": {
          "base_uri": "https://localhost:8080/"
        },
        "outputId": "ac956b74-5039-4ad5-c1cc-f66f83f7af64"
      },
      "source": [
        "y_pred = ann.predict(X_test)\n",
        "np.set_printoptions(precision=2)\n",
        "print(np.concatenate((y_pred.reshape(len(y_pred),1), y_test.reshape(len(y_test),1)),1))"
      ],
      "execution_count": null,
      "outputs": [
        {
          "output_type": "stream",
          "text": [
            "[[427.4  432.32]\n",
            " [469.91 465.36]\n",
            " [455.98 453.02]\n",
            " ...\n",
            " [443.5  443.73]\n",
            " [466.24 472.88]\n",
            " [435.55 431.35]]\n"
          ],
          "name": "stdout"
        }
      ]
    }
  ]
}